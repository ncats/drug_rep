{
 "cells": [
  {
   "cell_type": "code",
   "execution_count": 6,
   "id": "2cfd6928",
   "metadata": {},
   "outputs": [
    {
     "name": "stderr",
     "output_type": "stream",
     "text": [
      "Matplotlib is building the font cache; this may take a moment.\n"
     ]
    }
   ],
   "source": [
    "import numpy as np\n",
    "import pandas as pd\n",
    "from sklearn.model_selection import train_test_split, cross_val_score\n",
    "from sklearn.preprocessing import StandardScaler\n",
    "from sklearn.linear_model import LinearRegression, LassoCV, MultiTaskLassoCV\n",
    "from sklearn.cross_decomposition import PLSRegression\n",
    "from sklearn.ensemble import RandomForestRegressor\n",
    "import xgboost as xgb\n",
    "from tensorflow import keras\n",
    "import matplotlib.pyplot as plt\n",
    "from sklearn.metrics import mean_squared_error, mean_absolute_error, r2_score\n",
    "# from sklearn.linear_model import MultiTaskLassoCV\n"
   ]
  },
  {
   "cell_type": "code",
   "execution_count": null,
   "id": "8e6af12e",
   "metadata": {},
   "outputs": [],
   "source": [
    "# Load Data\n",
    "data = pd.read_csv(\"./.../PCA_imputed_Linear_data_protein_only.csv\")\n",
    "\n",
    "# Normalize features (Z-score standardization)\n",
    "scaler = StandardScaler()\n",
    "x_data = scaler.fit_transform(data.iloc[:, 6:])  # Excluding first 6 columns\n",
    "\n",
    "# Extract target variables (first 5 severity metrics)\n",
    "y_data = data.iloc[:, 1:6].values\n",
    "\n",
    "# Split into training (70%) and testing (30%)\n",
    "x_train, x_test, y_train, y_test = train_test_split(x_data, y_data, test_size=0.3, random_state=42)\n",
    "\n"
   ]
  },
  {
   "cell_type": "code",
   "execution_count": 8,
   "id": "4bdf2c86",
   "metadata": {},
   "outputs": [],
   "source": [
    "# Define function to evaluate models\n",
    "def evaluate_model(y_true, y_pred, metric_names):\n",
    "    return pd.DataFrame({\n",
    "        \"Metric\": metric_names,\n",
    "        \"MSE\": mean_squared_error(y_true, y_pred, multioutput='raw_values'),\n",
    "        \"RMSE\": np.sqrt(mean_squared_error(y_true, y_pred, multioutput='raw_values')),\n",
    "        \"MAE\": mean_absolute_error(y_true, y_pred, multioutput='raw_values'),\n",
    "        \"R_Squared\": [r2_score(y_true[:, i], y_pred[:, i]) for i in range(y_true.shape[1])]\n",
    "    })\n",
    "\n",
    "metric_names = data.columns[1:6]\n",
    "\n"
   ]
  },
  {
   "cell_type": "code",
   "execution_count": 9,
   "id": "b6e95174",
   "metadata": {},
   "outputs": [],
   "source": [
    "# (1) Multivariate Linear Regression (MLR)\n",
    "mlr_model = LinearRegression().fit(x_train, y_train)\n",
    "mlr_preds = mlr_model.predict(x_test)\n",
    "mlr_metrics = evaluate_model(y_test, mlr_preds, metric_names)\n",
    "\n"
   ]
  },
  {
   "cell_type": "code",
   "execution_count": 10,
   "id": "73fb535b",
   "metadata": {},
   "outputs": [],
   "source": [
    "# (2) Partial Least Squares Regression (PLSR)\n",
    "pls_model = PLSRegression(n_components=5).fit(x_train, y_train)\n",
    "pls_preds = pls_model.predict(x_test)\n",
    "pls_metrics = evaluate_model(y_test, pls_preds, metric_names)\n"
   ]
  },
  {
   "cell_type": "code",
   "execution_count": 11,
   "id": "c208d767",
   "metadata": {},
   "outputs": [],
   "source": [
    "# (3) Random Forest (RF)\n",
    "rf_model = RandomForestRegressor(n_estimators=500, random_state=42).fit(x_train, y_train)\n",
    "rf_preds = rf_model.predict(x_test)\n",
    "rf_metrics = evaluate_model(y_test, rf_preds, metric_names)\n"
   ]
  },
  {
   "cell_type": "code",
   "execution_count": 12,
   "id": "97d0493f",
   "metadata": {},
   "outputs": [],
   "source": [
    "# (4) XGBoost Multi-Output Regression\n",
    "xgb_models = [xgb.XGBRegressor(objective='reg:squarederror', n_estimators=100, max_depth=3, eta=0.1) for _ in range(y_train.shape[1])]\n",
    "for i in range(y_train.shape[1]):\n",
    "    xgb_models[i].fit(x_train, y_train[:, i])\n",
    "xgb_preds = np.column_stack([model.predict(x_test) for model in xgb_models])\n",
    "xgb_metrics = evaluate_model(y_test, xgb_preds, metric_names)\n"
   ]
  },
  {
   "cell_type": "code",
   "execution_count": 15,
   "id": "1419bb5b",
   "metadata": {},
   "outputs": [],
   "source": [
    "# Combine results\n",
    "results = pd.concat([\n",
    "    pd.DataFrame({'Model': 'MLR'}, index=mlr_metrics.index).join(mlr_metrics),\n",
    "    pd.DataFrame({'Model': 'PLSR'}, index=pls_metrics.index).join(pls_metrics),\n",
    "    pd.DataFrame({'Model': 'RF'}, index=rf_metrics.index).join(rf_metrics),\n",
    "    pd.DataFrame({'Model': 'XGBoost'}, index=xgb_metrics.index).join(xgb_metrics),\n",
    "    pd.DataFrame({'Model': 'LASSO'}, index=lasso_metrics.index).join(lasso_metrics),\n",
    "    pd.DataFrame({'Model': 'Neural Network'}, index=nn_metrics.index).join(nn_metrics)\n",
    "])\n",
    "\n"
   ]
  }
 ],
 "metadata": {
  "kernelspec": {
   "display_name": "Python [conda env:base] *",
   "language": "python",
   "name": "conda-base-py"
  },
  "language_info": {
   "codemirror_mode": {
    "name": "ipython",
    "version": 3
   },
   "file_extension": ".py",
   "mimetype": "text/x-python",
   "name": "python",
   "nbconvert_exporter": "python",
   "pygments_lexer": "ipython3",
   "version": "3.12.7"
  }
 },
 "nbformat": 4,
 "nbformat_minor": 5
}
