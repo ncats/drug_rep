{
  "cells": [
    {
      "cell_type": "markdown",
      "metadata": {},
      "source": [
        "**Constructing Node and Edge Lists**\n",
        "\n",
        "This code takes JSON files containing the node and edge lists for each of the 92 glioblastoma-related subgraphs extracted from the NCATS GARD Knowledge Graph, converts them to CSVs, and appends them into a single node and single edge list. It also removes all nodes labeled \"TRANSIENT\" and the edges connected to them. "
      ]
    },
    {
      "cell_type": "code",
      "execution_count": null,
      "metadata": {
        "id": "FBmS4LvMxXSL"
      },
      "outputs": [],
      "source": [
        "from google.colab import files\n",
        "import json\n",
        "import pandas as pd\n",
        "import numpy as np\n",
        "import csv"
      ]
    },
    {
      "cell_type": "markdown",
      "metadata": {
        "id": "F2pPX27L3uPG"
      },
      "source": [
        "Converting node list JSON files (exported from the NCATS GARD Knowledge Database) to CSV files:"
      ]
    },
    {
      "cell_type": "code",
      "execution_count": null,
      "metadata": {
        "id": "TVpR-Pbur1MQ"
      },
      "outputs": [],
      "source": [
        "#Read the node list for each subgraph\n",
        "counter = 0\n",
        "for filename in os.listdir('/content/GARD_Node_JSONs/'):\n",
        "  # load data using Python JSON module\n",
        "  counter = counter + 1\n",
        "  with open(filename,'r') as f:\n",
        "      data = json.loads(f.read(), strict=False)\n",
        "  # Flatten data\n",
        "  df_flat_node = pd.json_normalize(data, record_path =['collect(DISTINCT b)'])\n",
        "  # Save to CSV in Node lists folder\n",
        "  df_flat_node.to_csv('/content/GARD_Node_CSVs/' + filename[25:-5] + '.csv')"
      ]
    },
    {
      "cell_type": "code",
      "execution_count": null,
      "metadata": {
        "id": "pnHRf_7c3Gkt"
      },
      "outputs": [],
      "source": [
        "# load data using Python JSON module (repeat for each subgraph)\n",
        "with open('/content/GARD0008570_nodes.json','r') as f:\n",
        "    data = json.loads(f.read())\n",
        "# Flatten data\n",
        "df_flat_node = pd.json_normalize(data, record_path =['collect(DISTINCT b)'])"
      ]
    },
    {
      "cell_type": "code",
      "execution_count": null,
      "metadata": {
        "id": "wlzDaVG00b7T"
      },
      "outputs": [],
      "source": [
        "df_flat_node.to_csv('GARD0008570_nodes.csv')"
      ]
    },
    {
      "cell_type": "code",
      "execution_count": null,
      "metadata": {
        "id": "-xHMSZebviqf"
      },
      "outputs": [],
      "source": [
        "!zip -r /content/GARD_Edge_CSVs.zip /content/GARD_Edge_CSVs"
      ]
    },
    {
      "cell_type": "code",
      "execution_count": null,
      "metadata": {
        "colab": {
          "base_uri": "https://localhost:8080/",
          "height": 34
        },
        "id": "ol92ImgL3C2s",
        "outputId": "b76c8be5-776a-4828-dbcc-e5f92d612fa4"
      },
      "outputs": [
        {
          "data": {
            "application/javascript": "\n    async function download(id, filename, size) {\n      if (!google.colab.kernel.accessAllowed) {\n        return;\n      }\n      const div = document.createElement('div');\n      const label = document.createElement('label');\n      label.textContent = `Downloading \"${filename}\": `;\n      div.appendChild(label);\n      const progress = document.createElement('progress');\n      progress.max = size;\n      div.appendChild(progress);\n      document.body.appendChild(div);\n\n      const buffers = [];\n      let downloaded = 0;\n\n      const channel = await google.colab.kernel.comms.open(id);\n      // Send a message to notify the kernel that we're ready.\n      channel.send({})\n\n      for await (const message of channel.messages) {\n        // Send a message to notify the kernel that we're ready.\n        channel.send({})\n        if (message.buffers) {\n          for (const buffer of message.buffers) {\n            buffers.push(buffer);\n            downloaded += buffer.byteLength;\n            progress.value = downloaded;\n          }\n        }\n      }\n      const blob = new Blob(buffers, {type: 'application/binary'});\n      const a = document.createElement('a');\n      a.href = window.URL.createObjectURL(blob);\n      a.download = filename;\n      div.appendChild(a);\n      a.click();\n      div.remove();\n    }\n  ",
            "text/plain": [
              "<IPython.core.display.Javascript object>"
            ]
          },
          "metadata": {},
          "output_type": "display_data"
        },
        {
          "data": {
            "application/javascript": "download(\"download_7ec09263-40e1-45f8-a9ea-30e4b3596038\", \"GARD_Edge_CSVs.zip\", 3338126)",
            "text/plain": [
              "<IPython.core.display.Javascript object>"
            ]
          },
          "metadata": {},
          "output_type": "display_data"
        }
      ],
      "source": [
        "files.download('/content/GARD_Edge_CSVs.zip')"
      ]
    },
    {
      "cell_type": "markdown",
      "metadata": {
        "id": "DK3wGfzg3zIc"
      },
      "source": [
        "Converting edge list JSON files (exported from the NCATS GARD Knowledge Database) to CSV files:"
      ]
    },
    {
      "cell_type": "code",
      "execution_count": null,
      "metadata": {
        "id": "NRr_CYk61Z12"
      },
      "outputs": [],
      "source": [
        "counter = 0\n",
        "for filename in os.listdir('/content/GARD_Edge_JSONs/'):\n",
        "  # load data using Python JSON module\n",
        "  counter = counter + 1\n",
        "  with open(filename,'r') as f:\n",
        "      data = json.loads(f.read(), strict=False)\n",
        "  # Flatten data\n",
        "  df_flat_node = pd.json_normalize(data, record_path =['collect(DISTINCT f)'])\n",
        "  # Save to CSV in Edge lists folder\n",
        "  df_flat_node.to_csv('/content/GARD_Edge_CSVs/' + filename[0:-5] + '.csv')"
      ]
    },
    {
      "cell_type": "code",
      "execution_count": null,
      "metadata": {
        "id": "uraSLyxm3Nob"
      },
      "outputs": [],
      "source": [
        "# load data using Python JSON module (repeat for each subgraph)\n",
        "with open('/content/GARD0008214_edges.json','r') as f:\n",
        "    data = json.loads(f.read())\n",
        "# Flatten data\n",
        "df_flat_edge = pd.json_normalize(data, record_path =['collect(DISTINCT f)'])"
      ]
    },
    {
      "cell_type": "code",
      "execution_count": null,
      "metadata": {
        "id": "tqJOwK_H_DFl"
      },
      "outputs": [],
      "source": [
        "df_flat_edge.to_csv('GARD0008214_edges.csv')"
      ]
    },
    {
      "cell_type": "markdown",
      "metadata": {
        "id": "riyHc4fa6vip"
      },
      "source": [
        "Concatenate Node Lists:"
      ]
    },
    {
      "cell_type": "code",
      "execution_count": null,
      "metadata": {
        "colab": {
          "base_uri": "https://localhost:8080/",
          "height": 817
        },
        "id": "E5utXktL6wR-",
        "outputId": "2f1329f5-78ce-4370-b782-9fee5c870337"
      },
      "outputs": [],
      "source": [
        "concat_df = pd.read_csv('/content/GARD0000017_nodes.csv') \n",
        "\n",
        "for filename in os.listdir('/content/GARD_Node_CSVs'):\n",
        "  #Read each CSV\n",
        "  current_df = pd.read_csv('/content/GARD_Node_CSVs/' + filename) \n",
        "\n",
        "  #Concatenate (in order as blocks) and remove rows containing duplicate nodes (i.e. nodes with same identity)\n",
        "  concat_df = pd.concat([concat_df, current_df], sort=False).drop_duplicates(subset=['identity']).reset_index(drop=True)\n",
        "\n",
        "#Display\n",
        "display(concat_df)"
      ]
    },
    {
      "cell_type": "code",
      "execution_count": null,
      "metadata": {
        "id": "Ht7v6-jfCCkN"
      },
      "outputs": [],
      "source": [
        "concat_df.to_csv('node_list.csv')"
      ]
    },
    {
      "cell_type": "code",
      "execution_count": null,
      "metadata": {
        "colab": {
          "base_uri": "https://localhost:8080/",
          "height": 17
        },
        "id": "A0KhD41nzskf",
        "outputId": "15c9dd73-7f01-4169-bda4-5f079b03916c"
      },
      "outputs": [
        {
          "data": {
            "application/javascript": "\n    async function download(id, filename, size) {\n      if (!google.colab.kernel.accessAllowed) {\n        return;\n      }\n      const div = document.createElement('div');\n      const label = document.createElement('label');\n      label.textContent = `Downloading \"${filename}\": `;\n      div.appendChild(label);\n      const progress = document.createElement('progress');\n      progress.max = size;\n      div.appendChild(progress);\n      document.body.appendChild(div);\n\n      const buffers = [];\n      let downloaded = 0;\n\n      const channel = await google.colab.kernel.comms.open(id);\n      // Send a message to notify the kernel that we're ready.\n      channel.send({})\n\n      for await (const message of channel.messages) {\n        // Send a message to notify the kernel that we're ready.\n        channel.send({})\n        if (message.buffers) {\n          for (const buffer of message.buffers) {\n            buffers.push(buffer);\n            downloaded += buffer.byteLength;\n            progress.value = downloaded;\n          }\n        }\n      }\n      const blob = new Blob(buffers, {type: 'application/binary'});\n      const a = document.createElement('a');\n      a.href = window.URL.createObjectURL(blob);\n      a.download = filename;\n      div.appendChild(a);\n      a.click();\n      div.remove();\n    }\n  ",
            "text/plain": [
              "<IPython.core.display.Javascript object>"
            ]
          },
          "metadata": {},
          "output_type": "display_data"
        },
        {
          "data": {
            "application/javascript": "download(\"download_f4c814af-f77f-453c-bc04-553f2c17532c\", \"node_list.csv\", 9918126)",
            "text/plain": [
              "<IPython.core.display.Javascript object>"
            ]
          },
          "metadata": {},
          "output_type": "display_data"
        }
      ],
      "source": [
        "files.download('/content/GARD_Node_CSVs/node_list.csv')"
      ]
    },
    {
      "cell_type": "markdown",
      "metadata": {
        "id": "RLP2BmkUUKGv"
      },
      "source": [
        "Concatenate Edge Lists:"
      ]
    },
    {
      "cell_type": "code",
      "execution_count": null,
      "metadata": {
        "colab": {
          "base_uri": "https://localhost:8080/",
          "height": 645
        },
        "id": "3mxbUgx-Gq6H",
        "outputId": "6c5f2dc6-c2fd-40c7-b7e9-bfeac59d20cf"
      },
      "outputs": [],
      "source": [
        "concat_edge_df = pd.read_csv('/content/GARD0000017_edges.csv') \n",
        "\n",
        "for filename in os.listdir('/content/GARD_Edge_CSVs'):\n",
        "  #Read each CSV\n",
        "  current_df = pd.read_csv('/content/GARD_Edge_CSVs/' + filename) \n",
        "\n",
        "  #Concatenate (in order as blocks) and remove rows containing duplicate nodes (i.e. nodes with same identity)\n",
        "  concat_edge_df = pd.concat([concat_edge_df, current_df], sort=False).drop_duplicates().reset_index(drop=True)\n",
        "\n",
        "#Display\n",
        "display(concat_edge_df)"
      ]
    },
    {
      "cell_type": "code",
      "execution_count": null,
      "metadata": {
        "id": "4RpMhaXXIAMg"
      },
      "outputs": [],
      "source": [
        "concat_edge_df.to_csv('edge_list.csv')"
      ]
    },
    {
      "cell_type": "code",
      "execution_count": null,
      "metadata": {
        "colab": {
          "base_uri": "https://localhost:8080/",
          "height": 17
        },
        "id": "OMDLAs0nIF92",
        "outputId": "6339de46-8228-4907-d698-e0fb05e4fbef"
      },
      "outputs": [
        {
          "data": {
            "application/javascript": "\n    async function download(id, filename, size) {\n      if (!google.colab.kernel.accessAllowed) {\n        return;\n      }\n      const div = document.createElement('div');\n      const label = document.createElement('label');\n      label.textContent = `Downloading \"${filename}\": `;\n      div.appendChild(label);\n      const progress = document.createElement('progress');\n      progress.max = size;\n      div.appendChild(progress);\n      document.body.appendChild(div);\n\n      const buffers = [];\n      let downloaded = 0;\n\n      const channel = await google.colab.kernel.comms.open(id);\n      // Send a message to notify the kernel that we're ready.\n      channel.send({})\n\n      for await (const message of channel.messages) {\n        // Send a message to notify the kernel that we're ready.\n        channel.send({})\n        if (message.buffers) {\n          for (const buffer of message.buffers) {\n            buffers.push(buffer);\n            downloaded += buffer.byteLength;\n            progress.value = downloaded;\n          }\n        }\n      }\n      const blob = new Blob(buffers, {type: 'application/binary'});\n      const a = document.createElement('a');\n      a.href = window.URL.createObjectURL(blob);\n      a.download = filename;\n      div.appendChild(a);\n      a.click();\n      div.remove();\n    }\n  ",
            "text/plain": [
              "<IPython.core.display.Javascript object>"
            ]
          },
          "metadata": {},
          "output_type": "display_data"
        },
        {
          "data": {
            "application/javascript": "download(\"download_108dffeb-2a0c-48a1-abc6-977a3dc013db\", \"edge_list.csv\", 40339031)",
            "text/plain": [
              "<IPython.core.display.Javascript object>"
            ]
          },
          "metadata": {},
          "output_type": "display_data"
        }
      ],
      "source": [
        "files.download('edge_list.csv')"
      ]
    },
    {
      "cell_type": "markdown",
      "metadata": {
        "id": "-mTMuSccGyQe"
      },
      "source": [
        "Remove nodes labeled \"TRANSIENT\" (and the edges connected to them):"
      ]
    },
    {
      "cell_type": "code",
      "execution_count": null,
      "metadata": {
        "colab": {
          "base_uri": "https://localhost:8080/",
          "height": 1000
        },
        "id": "M3mXeHlWG2Mo",
        "outputId": "67c72f20-439e-4d2b-8810-42bdeb440557"
      },
      "outputs": [],
      "source": [
        "#Read node list CSV\n",
        "node_list_df = pd.read_csv('/content/node_list.csv') \n",
        "display(node_list_df)\n",
        "\n",
        "#Create list of the identity #s of each transient node (so we can remove the edges connected to them later)\n",
        "transient_node_ids = []\n",
        "for index, row in node_list_df.iterrows():\n",
        "  if 'TRANSIENT' in row['labels']:\n",
        "    transient_node_ids.append(row['identity'])\n",
        "\n",
        "#should be 202\n",
        "print(len(transient_node_ids))\n",
        "print(transient_node_ids)\n",
        "\n",
        "#Drop TRANSIENT nodes (should be 4789 left)\n",
        "for index, row in node_list_df.iterrows():\n",
        "  if 'TRANSIENT' in row['labels']:\n",
        "    node_list_df = node_list_df.drop([index])\n",
        "\n",
        "display(node_list_df)"
      ]
    },
    {
      "cell_type": "code",
      "execution_count": null,
      "metadata": {
        "id": "t2Cp_BGDJJxM"
      },
      "outputs": [],
      "source": [
        "node_list_df.to_csv('node_list_no_transient.csv')"
      ]
    },
    {
      "cell_type": "code",
      "execution_count": null,
      "metadata": {
        "colab": {
          "base_uri": "https://localhost:8080/",
          "height": 17
        },
        "id": "glM56uFDLxtU",
        "outputId": "9d906599-d49b-44e2-c7d7-7979e9ecd3de"
      },
      "outputs": [
        {
          "data": {
            "application/javascript": "\n    async function download(id, filename, size) {\n      if (!google.colab.kernel.accessAllowed) {\n        return;\n      }\n      const div = document.createElement('div');\n      const label = document.createElement('label');\n      label.textContent = `Downloading \"${filename}\": `;\n      div.appendChild(label);\n      const progress = document.createElement('progress');\n      progress.max = size;\n      div.appendChild(progress);\n      document.body.appendChild(div);\n\n      const buffers = [];\n      let downloaded = 0;\n\n      const channel = await google.colab.kernel.comms.open(id);\n      // Send a message to notify the kernel that we're ready.\n      channel.send({})\n\n      for await (const message of channel.messages) {\n        // Send a message to notify the kernel that we're ready.\n        channel.send({})\n        if (message.buffers) {\n          for (const buffer of message.buffers) {\n            buffers.push(buffer);\n            downloaded += buffer.byteLength;\n            progress.value = downloaded;\n          }\n        }\n      }\n      const blob = new Blob(buffers, {type: 'application/binary'});\n      const a = document.createElement('a');\n      a.href = window.URL.createObjectURL(blob);\n      a.download = filename;\n      div.appendChild(a);\n      a.click();\n      div.remove();\n    }\n  ",
            "text/plain": [
              "<IPython.core.display.Javascript object>"
            ]
          },
          "metadata": {},
          "output_type": "display_data"
        },
        {
          "data": {
            "application/javascript": "download(\"download_18188cd7-1b00-4101-96fe-4745ced0bb02\", \"node_list_no_transient.csv\", 9872626)",
            "text/plain": [
              "<IPython.core.display.Javascript object>"
            ]
          },
          "metadata": {},
          "output_type": "display_data"
        }
      ],
      "source": [
        "files.download('/content/node_list_no_transient.csv')"
      ]
    },
    {
      "cell_type": "code",
      "execution_count": null,
      "metadata": {
        "id": "k3AkIQXYh-BT"
      },
      "outputs": [],
      "source": [
        "transient_node_ids = [5764141, 5811875, 5821818, 5816977, 5672797, 5726512, 5985031, 5688846, 6090352, 5944228, 5899779, 6071778, 5985530, 5684855, 6124134, 5732474, 5740431, 5896648, 5699254, 5790224, 5820708, 6039767, 5909892, 5907191, 6117100, 6128387, 5775920, 5994886, 5931844, 5873301, 5923343, 5871294, 5768288, 5996425, 5955790, 6075890, 6139142, 5946522, 6061565, 5781226, 5844538, 6038548, 5941250, 6107393, 5931821, 5708259, 6036119, 6092650, 6030233, 5810328, 5990559, 6158459, 6106569, 5939101, 5693351, 5987827, 5977650, 5823958, 5828600, 6070501, 6092597, 5803087, 5949599, 5850521, 6070310, 5906051, 6011026, 5762669, 5831259, 6027185, 5866990, 6015091, 6064396, 6101090, 6138780, 5912201, 5718299, 5948660, 5730233, 5900158, 5850055, 5695667, 5895924, 5931876, 6092564, 5932686, 5860252, 5910430, 5702117, 5819397, 5946391, 5729017, 6065664, 5676856, 5721708, 5673299, 5911859, 6106721, 5808987, 5774402, 5879078, 5989124, 5778150, 6085935, 5850007, 5889490, 6037306, 5959612, 5997029, 5846418, 6038670, 5874253, 6038173, 6102979, 6059283, 5875889, 6039510, 6050144, 6051656, 5918313, 5869059, 5826250, 5914847, 6072021, 5821828, 5734580, 6138685, 5949630, 6040505, 5789223, 5735314, 5909563, 5872770, 6095144, 5911995, 5928878, 6050140, 6152175, 5920535, 6047730, 5853726, 6000444, 5721115, 5971563, 6016052, 6046334, 5721252, 5929111, 6050160, 5821758, 5986991, 6022687, 5949055, 6025528, 6073673, 5782675, 5948545, 5680603, 5971339, 6009443, 5996614, 5833261, 5982022, 5896138, 5840246, 5870177, 6094025, 5895678, 5952198, 5683249, 5942850, 5931912, 6160195, 6036123, 6051625, 6007887, 5762089, 6100854, 5744196, 5938338, 5988766, 6125571, 5845745, 5980314, 6062679, 6011060, 6026305, 6048682, 6105732, 6090493, 6070450, 5951490, 6157075, 5998936, 6155243, 5824803, 5674292, 5739597, 5820383, 6024178, 5742849, 6030935]"
      ]
    },
    {
      "cell_type": "code",
      "execution_count": null,
      "metadata": {
        "colab": {
          "base_uri": "https://localhost:8080/",
          "height": 1000
        },
        "id": "ESZlMjojg9na",
        "outputId": "d5274b43-19e1-4321-eeed-47d20f912b36"
      },
      "outputs": [],
      "source": [
        "#Read edge list CSV\n",
        "edge_list_df = pd.read_csv('/content/edge_list_WITH_TRANSIENT.csv') \n",
        "display(edge_list_df)\n",
        "\n",
        "#Drop edges connected to TRANSIENT nodes \n",
        "for index, row in edge_list_df.iterrows():\n",
        "  if row['start'] in transient_node_ids:\n",
        "    edge_list_df = edge_list_df.drop([index])\n",
        "  if row['end'] in transient_node_ids:\n",
        "    edge_list_df = edge_list_df.drop([index])\n",
        "\n",
        "display(edge_list_df)"
      ]
    },
    {
      "cell_type": "code",
      "execution_count": null,
      "metadata": {
        "id": "D54wsZ5bi-yP"
      },
      "outputs": [],
      "source": [
        "edge_list_df.to_csv('edge_list_no_transient.csv')"
      ]
    },
    {
      "cell_type": "code",
      "execution_count": null,
      "metadata": {
        "colab": {
          "base_uri": "https://localhost:8080/",
          "height": 17
        },
        "id": "ddeS5sh-kDIO",
        "outputId": "bfd4c8ae-a02e-470d-9a65-02549cdd64a1"
      },
      "outputs": [
        {
          "data": {
            "application/javascript": "\n    async function download(id, filename, size) {\n      if (!google.colab.kernel.accessAllowed) {\n        return;\n      }\n      const div = document.createElement('div');\n      const label = document.createElement('label');\n      label.textContent = `Downloading \"${filename}\": `;\n      div.appendChild(label);\n      const progress = document.createElement('progress');\n      progress.max = size;\n      div.appendChild(progress);\n      document.body.appendChild(div);\n\n      const buffers = [];\n      let downloaded = 0;\n\n      const channel = await google.colab.kernel.comms.open(id);\n      // Send a message to notify the kernel that we're ready.\n      channel.send({})\n\n      for await (const message of channel.messages) {\n        // Send a message to notify the kernel that we're ready.\n        channel.send({})\n        if (message.buffers) {\n          for (const buffer of message.buffers) {\n            buffers.push(buffer);\n            downloaded += buffer.byteLength;\n            progress.value = downloaded;\n          }\n        }\n      }\n      const blob = new Blob(buffers, {type: 'application/binary'});\n      const a = document.createElement('a');\n      a.href = window.URL.createObjectURL(blob);\n      a.download = filename;\n      div.appendChild(a);\n      a.click();\n      div.remove();\n    }\n  ",
            "text/plain": [
              "<IPython.core.display.Javascript object>"
            ]
          },
          "metadata": {},
          "output_type": "display_data"
        },
        {
          "data": {
            "application/javascript": "download(\"download_81e8b1bd-ba94-4920-928f-c07ab9088067\", \"edge_list_no_transient.csv\", 40450850)",
            "text/plain": [
              "<IPython.core.display.Javascript object>"
            ]
          },
          "metadata": {},
          "output_type": "display_data"
        }
      ],
      "source": [
        "files.download('/content/edge_list_no_transient.csv')"
      ]
    }
  ],
  "metadata": {
    "colab": {
      "name": "Create Node and Edge Lists.ipynb",
      "provenance": []
    },
    "gpuClass": "standard",
    "kernelspec": {
      "display_name": "Python 3",
      "name": "python3"
    },
    "language_info": {
      "name": "python"
    }
  },
  "nbformat": 4,
  "nbformat_minor": 0
}
